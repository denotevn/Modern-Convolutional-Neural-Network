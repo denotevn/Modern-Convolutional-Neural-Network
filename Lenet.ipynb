{
 "cells": [
  {
   "attachments": {},
   "cell_type": "markdown",
   "metadata": {},
   "source": [
    "At a high level, LeNet (LeNet-5) consists of two parts: (i) a convolutional encoder consisting of\n",
    "two convolutional layers; and (ii) a dense block consisting of three fully-connected layers;\n",
    "\n",
    "![Lenet 5 Architecture](https://github.com/denotevn/Modern-Convolutional-Neural-Network/blob/main/images/Lenet/Architecture-of-LeNet-5-LeCun-et-al-1998.png)"
   ]
  },
  {
   "cell_type": "code",
   "execution_count": null,
   "metadata": {},
   "outputs": [],
   "source": [
    "import torch\n",
    "import torch.nn as nn\n",
    "Lenet = nn.Sequential(\n",
    "    nn.Conv2d(1,6, kernel_size=5, padding=2),\n",
    "    nn.Sigmoid(),\n",
    "    nn.AvgPool2d(kernel_size=2, stride=2),\n",
    "    nn.Conv2d(6, 16, kernel_size=5), nn.Sigmoid(),\n",
    "    nn.AvgPool2d(kernel_size=2, stride=2),\n",
    "    nn.Flatten(),\n",
    "    nn.Linear(16 * 5 * 5, 120), nn.Sigmoid(),\n",
    "    nn.Linear(120, 84), nn.Sigmoid(),\n",
    "    nn.Linear(84, 10)\n",
    ")\n"
   ]
  }
 ],
 "metadata": {
  "language_info": {
   "name": "python"
  },
  "orig_nbformat": 4
 },
 "nbformat": 4,
 "nbformat_minor": 2
}
