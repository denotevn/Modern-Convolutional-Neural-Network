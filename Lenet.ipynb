{
 "cells": [
  {
   "attachments": {},
   "cell_type": "markdown",
   "metadata": {},
   "source": [
    "At a high level, LeNet (LeNet-5) consists of two parts: (i) a convolutional encoder consisting of\n",
    "two convolutional layers; and (ii) a dense block consisting of three fully-connected layers; The\n",
    "architecture is summarized in\n",
    "\n",
    "![Lenet 5 Architecture]()"
   ]
  },
  {
   "cell_type": "code",
   "execution_count": null,
   "metadata": {},
   "outputs": [],
   "source": [
    "import torch"
   ]
  }
 ],
 "metadata": {
  "language_info": {
   "name": "python"
  },
  "orig_nbformat": 4
 },
 "nbformat": 4,
 "nbformat_minor": 2
}
