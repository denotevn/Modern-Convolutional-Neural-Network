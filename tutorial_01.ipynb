{
 "cells": [
  {
   "cell_type": "code",
   "execution_count": 2,
   "metadata": {},
   "outputs": [
    {
     "data": {
      "text/plain": [
       "tensor([[-9.1788e+11,  3.0941e-41,  1.4013e-45],\n",
       "        [ 0.0000e+00, -9.1786e+11,  3.0941e-41],\n",
       "        [-9.1786e+11,  3.0941e-41,  3.3631e-44],\n",
       "        [ 4.5887e-41,  3.6010e+25,  4.5887e-41],\n",
       "        [ 2.8026e-45,  9.8091e-45,  2.8026e-45]])"
      ]
     },
     "execution_count": 2,
     "metadata": {},
     "output_type": "execute_result"
    }
   ],
   "source": [
    "import torch\n",
    "import numpy as np\n",
    "x = torch.empty(5,3)\n",
    "x"
   ]
  },
  {
   "cell_type": "code",
   "execution_count": 3,
   "metadata": {},
   "outputs": [
    {
     "data": {
      "text/plain": [
       "tensor([[0.5486, 0.2260, 0.3638],\n",
       "        [0.3347, 0.7156, 0.7925],\n",
       "        [0.0025, 0.2452, 0.1512],\n",
       "        [0.3953, 0.1101, 0.2680],\n",
       "        [0.2054, 0.0494, 0.5496]])"
      ]
     },
     "execution_count": 3,
     "metadata": {},
     "output_type": "execute_result"
    }
   ],
   "source": [
    "# matrix nau nhien\n",
    "torch.rand(5,3)"
   ]
  },
  {
   "cell_type": "code",
   "execution_count": 5,
   "metadata": {},
   "outputs": [
    {
     "data": {
      "text/plain": [
       "tensor([[0, 0, 0],\n",
       "        [0, 0, 0],\n",
       "        [0, 0, 0],\n",
       "        [0, 0, 0],\n",
       "        [0, 0, 0]])"
      ]
     },
     "execution_count": 5,
     "metadata": {},
     "output_type": "execute_result"
    }
   ],
   "source": [
    "# matrix 0 with type long\n",
    "x = torch.zeros(5,3,dtype=torch.long)\n",
    "x"
   ]
  },
  {
   "cell_type": "code",
   "execution_count": 7,
   "metadata": {},
   "outputs": [
    {
     "name": "stdout",
     "output_type": "stream",
     "text": [
      "torch.Size([5, 3])\n"
     ]
    },
    {
     "data": {
      "text/plain": [
       "tensor([[1., 1., 1.],\n",
       "        [1., 1., 1.],\n",
       "        [1., 1., 1.],\n",
       "        [1., 1., 1.],\n",
       "        [1., 1., 1.]], dtype=torch.float64)"
      ]
     },
     "execution_count": 7,
     "metadata": {},
     "output_type": "execute_result"
    }
   ],
   "source": [
    "# khoi tao ma tran co kich thuoc tuong tu ma tran san co\n",
    "x = x.new_ones(5,3,dtype=torch.double)\n",
    "print(x.size())\n",
    "x"
   ]
  },
  {
   "attachments": {},
   "cell_type": "markdown",
   "metadata": {},
   "source": [
    "# Operation with pytorch"
   ]
  },
  {
   "cell_type": "code",
   "execution_count": 9,
   "metadata": {},
   "outputs": [
    {
     "name": "stdout",
     "output_type": "stream",
     "text": [
      "tensor([[ 0.8776,  0.5876, -0.1372],\n",
      "        [ 0.9304,  1.0421, -0.7672],\n",
      "        [-0.6128,  0.6739, -0.4762],\n",
      "        [-0.5584, -0.7221,  0.2683],\n",
      "        [-0.6018, -1.1810, -0.0672]])\n",
      "tensor([[1., 1., 1.],\n",
      "        [1., 1., 1.],\n",
      "        [1., 1., 1.],\n",
      "        [1., 1., 1.],\n",
      "        [1., 1., 1.]])\n",
      "tensor([[ 1.8776,  1.5876,  0.8628],\n",
      "        [ 1.9304,  2.0421,  0.2328],\n",
      "        [ 0.3872,  1.6739,  0.5238],\n",
      "        [ 0.4416,  0.2779,  1.2683],\n",
      "        [ 0.3982, -0.1810,  0.9328]])\n"
     ]
    }
   ],
   "source": [
    "x = torch.randn(5,3)\n",
    "print(x)\n",
    "y = torch.ones(5,3)\n",
    "print(y)\n",
    "print(x+y)"
   ]
  },
  {
   "cell_type": "code",
   "execution_count": 10,
   "metadata": {},
   "outputs": [
    {
     "name": "stdout",
     "output_type": "stream",
     "text": [
      "tensor([[ 1.8776,  1.5876,  0.8628],\n",
      "        [ 1.9304,  2.0421,  0.2328],\n",
      "        [ 0.3872,  1.6739,  0.5238],\n",
      "        [ 0.4416,  0.2779,  1.2683],\n",
      "        [ 0.3982, -0.1810,  0.9328]])\n"
     ]
    }
   ],
   "source": [
    "print(torch.add(x,y))"
   ]
  },
  {
   "cell_type": "code",
   "execution_count": 12,
   "metadata": {},
   "outputs": [
    {
     "data": {
      "text/plain": [
       "tensor([[ 1.8776,  1.5876,  0.8628],\n",
       "        [ 1.9304,  2.0421,  0.2328],\n",
       "        [ 0.3872,  1.6739,  0.5238],\n",
       "        [ 0.4416,  0.2779,  1.2683],\n",
       "        [ 0.3982, -0.1810,  0.9328]])"
      ]
     },
     "execution_count": 12,
     "metadata": {},
     "output_type": "execute_result"
    }
   ],
   "source": [
    "z = torch.empty(5,3)\n",
    "torch.add(x,y,out=z)\n",
    "z"
   ]
  },
  {
   "cell_type": "code",
   "execution_count": 13,
   "metadata": {},
   "outputs": [
    {
     "name": "stdout",
     "output_type": "stream",
     "text": [
      "tensor([[ 1.8776,  1.5876,  0.8628],\n",
      "        [ 1.9304,  2.0421,  0.2328],\n",
      "        [ 0.3872,  1.6739,  0.5238],\n",
      "        [ 0.4416,  0.2779,  1.2683],\n",
      "        [ 0.3982, -0.1810,  0.9328]])\n",
      "tensor([[ 1.8776,  1.5876,  0.8628],\n",
      "        [ 1.9304,  2.0421,  0.2328],\n",
      "        [ 0.3872,  1.6739,  0.5238],\n",
      "        [ 0.4416,  0.2779,  1.2683],\n",
      "        [ 0.3982, -0.1810,  0.9328]])\n"
     ]
    }
   ],
   "source": [
    "print(x.add(y))\n",
    "print(y.add(x))"
   ]
  },
  {
   "cell_type": "code",
   "execution_count": 15,
   "metadata": {},
   "outputs": [
    {
     "name": "stdout",
     "output_type": "stream",
     "text": [
      "tensor([[ 0.8776,  0.5876, -0.1372]])\n"
     ]
    }
   ],
   "source": [
    "# Truy cập index\n",
    "# cot thu 2 cua x\n",
    "print(x[:1])"
   ]
  },
  {
   "cell_type": "code",
   "execution_count": 17,
   "metadata": {},
   "outputs": [
    {
     "name": "stdout",
     "output_type": "stream",
     "text": [
      "tensor([ 0.4471,  0.3254,  1.1537,  1.8230, -1.2919,  1.6099, -1.3405, -0.9357,\n",
      "         0.6332, -0.5359, -0.0235, -1.7471, -1.0080,  0.8631, -0.1161,  1.5770])\n",
      "torch.Size([4, 4]) torch.Size([16]) torch.Size([2, 8])\n"
     ]
    }
   ],
   "source": [
    "# reshape tensor\n",
    "x = torch.randn(4,4)\n",
    "y = x.view(16)\n",
    "z = x.view(-1,8)\n",
    "print(y)\n",
    "print(x.size(), y.size(), z.size())"
   ]
  },
  {
   "cell_type": "code",
   "execution_count": 18,
   "metadata": {},
   "outputs": [
    {
     "name": "stdout",
     "output_type": "stream",
     "text": [
      "1.5\n"
     ]
    }
   ],
   "source": [
    "# Chúng ta có thể chuyển tensor x có 1 phần tử sang 1 numeric python bằng hàm item().\n",
    "x = torch.tensor([1.5])\n",
    "i = x.item()\n",
    "print(i)"
   ]
  },
  {
   "attachments": {},
   "cell_type": "markdown",
   "metadata": {},
   "source": [
    "# Connect with numpy"
   ]
  },
  {
   "cell_type": "code",
   "execution_count": 20,
   "metadata": {},
   "outputs": [
    {
     "name": "stdout",
     "output_type": "stream",
     "text": [
      "<class 'torch.Tensor'>\n",
      "<class 'numpy.ndarray'>\n"
     ]
    }
   ],
   "source": [
    "# chuyen doi tensor sang numpy\n",
    "a = torch.ones(5,3)\n",
    "print(type(a))\n",
    "b = a.numpy()\n",
    "print(type(b))"
   ]
  },
  {
   "cell_type": "code",
   "execution_count": 22,
   "metadata": {},
   "outputs": [
    {
     "name": "stdout",
     "output_type": "stream",
     "text": [
      "tensor([[3., 3., 3.],\n",
      "        [3., 3., 3.],\n",
      "        [3., 3., 3.],\n",
      "        [3., 3., 3.],\n",
      "        [3., 3., 3.]])\n",
      "[[3. 3. 3.]\n",
      " [3. 3. 3.]\n",
      " [3. 3. 3.]\n",
      " [3. 3. 3.]\n",
      " [3. 3. 3.]]\n"
     ]
    }
   ],
   "source": [
    "#  b deu thay doi khi a thay doi. tuc ma tran numpy chuyen tu tensor sang co lien he voi nhau\n",
    "a.add_(1)\n",
    "print(a)\n",
    "print(b)"
   ]
  },
  {
   "cell_type": "code",
   "execution_count": 30,
   "metadata": {},
   "outputs": [
    {
     "name": "stdout",
     "output_type": "stream",
     "text": [
      "[1 2 3]\n",
      "tensor([1, 2, 3])\n",
      "<class 'numpy.ndarray'>\n",
      "<class 'torch.Tensor'>\n"
     ]
    }
   ],
   "source": [
    "# Chuyển đổi numpy array sang torch tensor\n",
    "a = np.array([1, 2, 3])\n",
    "t = torch.from_numpy(a)\n",
    "print(a)\n",
    "print(t)\n",
    "print(type(a))\n",
    "print(type(t))"
   ]
  },
  {
   "attachments": {},
   "cell_type": "markdown",
   "metadata": {},
   "source": [
    "# CUDA tensor"
   ]
  },
  {
   "cell_type": "code",
   "execution_count": 31,
   "metadata": {},
   "outputs": [],
   "source": [
    "if torch.cuda.is_available():\n",
    "    device = torch.device(\"cuda\")\n",
    "    y = torch.ones_like(x, device=device)\n",
    "    x = x.to(device)\n",
    "    z = x + y\n",
    "    print(z)\n",
    "    print(z.to(\"cpu\", torch.double))"
   ]
  }
 ],
 "metadata": {
  "kernelspec": {
   "display_name": "Python 3",
   "language": "python",
   "name": "python3"
  },
  "language_info": {
   "codemirror_mode": {
    "name": "ipython",
    "version": 3
   },
   "file_extension": ".py",
   "mimetype": "text/x-python",
   "name": "python",
   "nbconvert_exporter": "python",
   "pygments_lexer": "ipython3",
   "version": "3.10.6"
  },
  "orig_nbformat": 4,
  "vscode": {
   "interpreter": {
    "hash": "916dbcbb3f70747c44a77c7bcd40155683ae19c65e1c03b4aa3499c5328201f1"
   }
  }
 },
 "nbformat": 4,
 "nbformat_minor": 2
}
